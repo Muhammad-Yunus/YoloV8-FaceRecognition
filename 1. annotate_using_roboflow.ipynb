{
 "cells": [
  {
   "cell_type": "markdown",
   "metadata": {},
   "source": [
    "# 1. Annotate Dataset using Roboflow"
   ]
  },
  {
   "cell_type": "markdown",
   "metadata": {
    "vscode": {
     "languageId": "plaintext"
    }
   },
   "source": [
    "### 1.2 Create Roboflow\n",
    "\n",
    "- Buka di browser link berikut https://app.roboflow.com/ <br>\n",
    "<img src=\"resource/rb-login.png\" width=\"500px\">\n",
    "- Pilih login dengan akun google.\n",
    "- Check `confirm checkbox` lalu `continue`<br>\n",
    "<img src=\"resource/rb-confirm.png\" width=\"500px\">\n",
    "- Setelah itu akan muncul halaman create `Workspace`\n",
    "- Input nama workspace `Learning`, pilin `Free plan` lalu click `Create Workspace`\n",
    "<img src=\"resource/rb-create-workspace.png\" width=\"800px\">\n",
    "- Setelah itu click `Continue without adding others`<br>\n",
    "<img src=\"resource/rb-invite.png\" width=\"500px\">\n"
   ]
  },
  {
   "cell_type": "markdown",
   "metadata": {},
   "source": [
    "### 1.3 Create & Upload Dataset \n",
    "- Create dataset dengan nama `Face Recognition` dana annotation group `faces`\n",
    "- Pilih project type `Object Detection` lalu klik `Create public project`<br>\n",
    "<img src=\"resource/rb-create-dataset.png\" width=\"800px\">\n",
    "- Setelah itu download sample dataset dari link berikut [Face Datasets]()\n",
    "- Upload ke dalam  `Face Recognition` project dengan cara klik `Select Files`<br>\n",
    "<img src=\"resource/rb-upload-dataset.png\" width=\"800px\">\n",
    "- Lalu klik `Save and Continue` (pojok kanan atas) <br>\n",
    "<img src=\"resource/rb-uploaded-data.png\" width=\"800px\">\n",
    "- Setelah proses upload selesai, lalu klik `Start Manual Labeling` <br>\n",
    "<img src=\"resource/rb-manual-labeling.png\" width=\"800px\">\n",
    "- Setelah itu klik `Assign to Myself` <br>\n",
    "<img src=\"resource/rb-labeling-assign.png\" width=\"300px\">"
   ]
  },
  {
   "cell_type": "markdown",
   "metadata": {},
   "source": [
    "### 1.4 Manual Annotation\n",
    "\n",
    "- Selanjutnya klik `Start Annotating` untuk memulai menganotasi dataset <br>\n",
    "<img src=\"resource/rb-labeling-start.png\" width=\"800px\">\n",
    "- Lakukan anotasi (memberikan **label** `skissors` dan **bounding box** pada gunting) untuk semua gambar seperti berikut <br>\n",
    "<img src=\"resource/rb-annotation-process.gif\" width=\"950px\">\n",
    "- Jika sudah selesai, kembali ke halaman utama, dengan cara klik icon back <br>\n",
    "<img src=\"resource/rb-annotation-back.png\" width=\"300px\">\n",
    "- Setelah itu klik `Add xxx images to Dataset`<br>\n",
    "<img src=\"resource/rb-add-dataset.png\" width=\"800px\">\n",
    "- Selanjutnya klik `Add Images`,<br>\n",
    "<img src=\"resource/rb-add-images.png\" width=\"300px\">\n",
    "- Setelah selesai, selanjutnya kita masuk ke menu `Generate`<br>\n",
    "<img src=\"resource/rb-generate.png\" width=\"800px\">\n",
    "- Lalu pada bagian `3 Preprocessing`, klik `Edit` **Resize**<br>\n",
    "<img src=\"resource/rb-resize.png\" width=\"400px\">\n",
    "- Pilih `Fit (white edge) in` dan resize ke ukuran 320x320, lalu klik `Apply` lalu `Continue`<br>\n",
    "<img src=\"resource/rb-resize-2.png\" width=\"400px\">\n",
    "- Lalu pada bagian `4 Augmentation` klik `Add Augmentation Step`<br>\n",
    "<img src=\"resource/rb-augmentation.png\" width=\"400px\">\n",
    "- Tambahkan augmentasi pada dataset sesuai kebutuhan, misal di `Flip`, di `Rotate`, dll.\n",
    "- Setelah selesai ditambahkan, lalu klik `Continue` <br>\n",
    "<img src=\"resource/rb-augmentation-2.png\" width=\"400px\">\n",
    "- Pada bagian `5 Create` klik `Create` button <br>\n",
    "<img src=\"resource/rb-create.png\" width=\"400px\">"
   ]
  },
  {
   "cell_type": "markdown",
   "metadata": {},
   "source": [
    "### 1.5 Finish\n",
    "- Ditahap ini kita telah berhasil melakukan annotasi dataset. \n",
    "- Selanjutnya kita akan melakukan Training Model Yolo V8 menggunakan custom Dataset yang telah kita proses di Roboflow.\n",
    "- Click pada tombol `Open in Colab` dibawah untuk membuka notebook `2. train_yolov8_ultralytics.ipynb` di Google Colab, <br><br>\n",
    "<a href=\"https://colab.research.google.com/github/Muhammad-Yunus/YoloV8-FaceRecognition/blob/main/2.%20train_yolov8_ultralytics.ipynb\" target=\"_blank\"><img src=\"https://colab.research.google.com/assets/colab-badge.svg\" alt=\"Open In Colab\"/></a>"
   ]
  }
 ],
 "metadata": {
  "language_info": {
   "name": "python"
  }
 },
 "nbformat": 4,
 "nbformat_minor": 2
}
