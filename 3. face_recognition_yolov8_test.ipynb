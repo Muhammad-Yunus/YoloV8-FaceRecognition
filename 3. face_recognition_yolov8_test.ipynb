{
 "cells": [
  {
   "cell_type": "markdown",
   "metadata": {},
   "source": [
    "## 3. Face Recognition using Custom Yolo V8 Model"
   ]
  },
  {
   "cell_type": "markdown",
   "metadata": {},
   "source": [
    "### 3.1 Install Tools And Library\n",
    "- Buka PPT berikut `Pengenalan Anaconda Dan VS Code Jupyter Notebook.pptx`\n",
    "- Lalu ikuti instruksi instalasi disalamnya"
   ]
  },
  {
   "cell_type": "markdown",
   "metadata": {},
   "source": [
    "<br><br><br>\n",
    "### 3.2 Sample Code Face Recognition from Camera Webcam\n",
    "- Pastikan terhubung ke environment `BelajarOpenCV`<br><br>\n",
    "<img src='resource/connect_conda_environment.png' width='600px'>"
   ]
  },
  {
   "cell_type": "code",
   "execution_count": null,
   "metadata": {},
   "outputs": [],
   "source": [
    "# Import Library\n",
    "import cv2\n",
    "import pyautogui\n",
    "import numpy as np\n",
    "from ultralytics import YOLO\n",
    "import supervision as sv\n",
    "\n",
    "print(\"OpenCV version \", cv2.__version__)\n",
    "print(\"SuperVision version \", sv.__version__)"
   ]
  },
  {
   "cell_type": "code",
   "execution_count": null,
   "metadata": {},
   "outputs": [],
   "source": [
    "# load Yolo V8 ONNX using Ultralytics Yolo\n",
    "model = \"model/yolov8s.onnx\"\n",
    "model = YOLO(model, task='detect')"
   ]
  },
  {
   "cell_type": "code",
   "execution_count": null,
   "metadata": {},
   "outputs": [],
   "source": [
    "# create Supervision BoxAnnotator() & label_annotator()\n",
    "box_annotator = sv.BoxAnnotator()\n",
    "label_annotator = sv.LabelAnnotator()"
   ]
  },
  {
   "cell_type": "code",
   "execution_count": null,
   "metadata": {},
   "outputs": [],
   "source": [
    "# load webcam\n",
    "cap = cv2.VideoCapture(0)\n",
    "           \n",
    "# iterate for each frame in video\n",
    "while cap.isOpened():\n",
    "    \n",
    "    # get image on each frame\n",
    "    ret, frame = cap.read()\n",
    "    if not ret:\n",
    "        break\n",
    "\n",
    "    # do forward pass (inferencing) yolo v8 onnx\n",
    "    results = model(frame, imgsz=320)[0]\n",
    "\n",
    "    # do postprocess detection result\n",
    "    detections = sv.Detections.from_ultralytics(results)\n",
    "\n",
    "    # draw bounding box & label \n",
    "    box_labels = [\n",
    "        f\"{class_name} {confidence:.2f}\"\n",
    "        for class_name, confidence\n",
    "        in zip(detections['class_name'], detections.confidence)\n",
    "    ]\n",
    "    frame = box_annotator.annotate(scene=frame, detections=detections)\n",
    "    frame = label_annotator.annotate(scene=frame, detections=detections, labels=box_labels)\n",
    "\n",
    "    # show result\n",
    "    cv2.imshow('Frame',frame)\n",
    "\n",
    "    # wait 1ms per frame and close using 'q'\n",
    "    if cv2.waitKey(1) == ord('q'):\n",
    "        break\n",
    "\n",
    "cap.release()\n",
    "cv2.destroyAllWindows()"
   ]
  },
  {
   "cell_type": "markdown",
   "metadata": {},
   "source": [
    "<br><br><br>\n",
    "### 3.3 Sample Code Face Recognition from Screencapture\n",
    "- Pastikan terhubung ke environment `BelajarOpenCV`<br><br>\n",
    "<img src='resource/connect_conda_environment.png' width='600px'>"
   ]
  },
  {
   "cell_type": "code",
   "execution_count": null,
   "metadata": {},
   "outputs": [],
   "source": [
    "# load Yolo V8 ONNX using Ultralytics Yolo\n",
    "model = \"model/yolov8s.onnx\"\n",
    "model = YOLO(model, task='detect')"
   ]
  },
  {
   "cell_type": "code",
   "execution_count": null,
   "metadata": {},
   "outputs": [],
   "source": [
    "# create Supervision BoxAnnotator() & label_annotator()\n",
    "box_annotator = sv.BoxAnnotator()\n",
    "label_annotator = sv.LabelAnnotator()"
   ]
  },
  {
   "cell_type": "code",
   "execution_count": null,
   "metadata": {},
   "outputs": [],
   "source": [
    "# Take a screenshot\n",
    "img_raw = pyautogui.screenshot()\n",
    "\n",
    "# Convert the screenshot to a numpy array\n",
    "img_np = np.array(img_raw)\n",
    "\n",
    "# Convert the image from RGB (pyautogui) to BGR (OpenCV)\n",
    "img = cv2.cvtColor(img_np, cv2.COLOR_RGB2BGR)"
   ]
  },
  {
   "cell_type": "code",
   "execution_count": null,
   "metadata": {},
   "outputs": [],
   "source": [
    "# do forward pass (inferencing) yolo v8 onnx\n",
    "results = model(img, imgsz=320)[0]\n",
    "\n",
    "# do postprocess detection result\n",
    "detections = sv.Detections.from_ultralytics(results)\n",
    "\n",
    "# draw bounding box & label \n",
    "box_labels = [\n",
    "    f\"{class_name} {confidence:.2f}\"\n",
    "    for class_name, confidence\n",
    "    in zip(detections['class_name'], detections.confidence)\n",
    "]\n",
    "img = box_annotator.annotate(scene=img, detections=detections)\n",
    "framimge = label_annotator.annotate(scene=img, detections=detections, labels=box_labels)\n",
    "\n",
    "# show result\n",
    "cv2.imshow('Screenshoot Image',img)\n",
    "cv2.waitKey(0)\n",
    "cv2.destroyAllWindows()"
   ]
  }
 ],
 "metadata": {
  "language_info": {
   "name": "python"
  }
 },
 "nbformat": 4,
 "nbformat_minor": 2
}
