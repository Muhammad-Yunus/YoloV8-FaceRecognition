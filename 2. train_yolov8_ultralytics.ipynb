{
  "cells": [
    {
      "cell_type": "markdown",
      "metadata": {
        "id": "vfOaQVN6Gku5"
      },
      "source": [
        "# 2 Train Yolo V8 using Pytorch & Ultralytics Framework\n",
        "- Setting GPU Environment\n",
        "- Installing Ultralytics YOLOv8 on Colab\n",
        "- Download Dataset from Roboflow (previous notebook)\n",
        "- Train Custom YOLOv8 Detector\n",
        "- Infer Custom Objects with Saved YOLOv8 (`.pt`)"
      ]
    },
    {
      "cell_type": "markdown",
      "metadata": {
        "id": "FyRdDYkqAKN4"
      },
      "source": [
        "⚠️⚠️⚠️ *Please open this notebook in Google Colab* by click below link ⚠️⚠️⚠️<br><br>\n",
        "<a href=\"https://colab.research.google.com/github.com/Muhammad-Yunus/YoloV8-FaceRecognition/blob/main/2.%20train_yolov8_ultralytics.ipynb\" target=\"_blank\"><img src=\"https://colab.research.google.com/assets/colab-badge.svg\" alt=\"Open In Colab\"/></a>"
      ]
    },
    {
      "cell_type": "markdown",
      "metadata": {
        "id": "NXdmbvGkGku8"
      },
      "source": [
        "### 2.1 Connect GPU Environment\n",
        "\n",
        "- Click `Connect` button in top right Google Colab notebook,<br>\n",
        "<img src=\"https://github.com/Muhammad-Yunus/YoloV8-FaceRecognition/blob/main/resource/cl-connect-gpu.png?raw=1\" width=\"250px\">\n",
        "- If connecting process completed, it will turn to something look like this<br>\n",
        "<img src=\"https://github.com/Muhammad-Yunus/YoloV8-FaceRecognition/blob/main/resource/cl-connect-gpu-success.png?raw=1\" width=\"250px\">"
      ]
    },
    {
      "cell_type": "markdown",
      "metadata": {
        "id": "A31meyvSGku8"
      },
      "source": [
        "- Check GPU connected into Colab environment is active"
      ]
    },
    {
      "cell_type": "code",
      "execution_count": null,
      "metadata": {
        "id": "Y8cDtxLIBHgQ"
      },
      "outputs": [],
      "source": [
        "!nvidia-smi"
      ]
    },
    {
      "cell_type": "code",
      "execution_count": null,
      "metadata": {
        "id": "CjpPg4mGKc1v"
      },
      "outputs": [],
      "source": [
        "import os\n",
        "HOME = os.getcwd()\n",
        "print(HOME)"
      ]
    },
    {
      "cell_type": "markdown",
      "metadata": {
        "id": "3C3EO_2zNChu"
      },
      "source": [
        "## 2.2 Installing Ultralytics YOLOv8 on Colab\n",
        "- `Ultralytics YOLO` is python library that help simplify YOLO training model in `Pytorch`\n",
        "- It's wrap `Pytorch` functionality as simple CLI command like we use `Darknet` framework\n",
        "- More about `Ultralytics YOLO` (https://docs.ultralytics.com/)  "
      ]
    },
    {
      "cell_type": "code",
      "execution_count": null,
      "metadata": {
        "id": "tdSMcABDNKW-"
      },
      "outputs": [],
      "source": [
        "# Pip install method (recommended)\n",
        "\n",
        "!pip install ultralytics==8.0.196\n",
        "\n",
        "from IPython import display\n",
        "display.clear_output()\n",
        "\n",
        "import ultralytics\n",
        "ultralytics.checks()"
      ]
    },
    {
      "cell_type": "code",
      "execution_count": null,
      "metadata": {
        "id": "VOEYrlBoP9-E"
      },
      "outputs": [],
      "source": [
        "from ultralytics import YOLO\n",
        "\n",
        "from IPython.display import display, Image"
      ]
    },
    {
      "cell_type": "markdown",
      "metadata": {
        "id": "-Y9taZTAKvdC"
      },
      "source": [
        "## 2.3 Download Dataset from Roboflow (previous notebook)\n",
        "\n",
        "- Back to `Roboflow` > `Project` > `Versions` menu\n",
        "- Then click `Download Dataset`<br>\n",
        "<img src=\"https://github.com/Muhammad-Yunus/YoloV8-FaceRecognition/blob/main/resource/rb-download-dataset.png?raw=1\" width=\"850px\">\n",
        "- Choose `YOLO Darknet` format and select `Show download code` then click `Continue` <br>\n",
        "<img src=\"https://github.com/Muhammad-Yunus/YoloV8-FaceRecognition/blob/main/resource/rb-download-format.png?raw=1\" width=\"350px\">\n",
        "- click `Copy` icon to copy roboflow download code<br>\n",
        "<img src=\"https://github.com/Muhammad-Yunus/YoloV8-FaceRecognition/blob/main/resource/rb-copy-download-code.png?raw=1\" width=\"350px\">\n",
        "- Then replace below code using the copied roboflow download code above,\n"
      ]
    },
    {
      "cell_type": "code",
      "execution_count": null,
      "metadata": {
        "id": "BSd93ZJzZZKt"
      },
      "outputs": [],
      "source": [
        "!pip install roboflow\n",
        "\n",
        "from roboflow import Roboflow\n",
        "rf = Roboflow(api_key=\"uwcaZm715IIKM3Ej7ix5\")\n",
        "project = rf.workspace(\"learning-k0ow4\").project(\"face-recognition-9slu3\")\n",
        "version = project.version(2)\n",
        "dataset = version.download(\"yolov8\")\n",
        ""
      ]
    },
    {
      "cell_type": "markdown",
      "metadata": {
        "id": "YUjFBKKqXa-u"
      },
      "source": [
        "## 2.4 Run Training Custom Yolo V8 Model\n",
        "- Don't forget to change `imgsz=` to image size uploaded in Roboflow\n",
        "- Default `imgsz=320`"
      ]
    },
    {
      "cell_type": "code",
      "execution_count": null,
      "metadata": {
        "id": "D2YkphuiaE7_"
      },
      "outputs": [],
      "source": [
        "%cd {HOME}\n",
        "\n",
        "!yolo task=detect mode=train model=yolov8s.pt data={dataset.location}/data.yaml epochs=25 imgsz=320 plots=True"
      ]
    },
    {
      "cell_type": "code",
      "execution_count": null,
      "metadata": {
        "id": "1MScstfHhArr"
      },
      "outputs": [],
      "source": [
        "!ls {HOME}/runs/detect/train/"
      ]
    },
    {
      "cell_type": "markdown",
      "metadata": {
        "id": "DxJ9wpqadO2J"
      },
      "source": [
        "- Check Results Plot"
      ]
    },
    {
      "cell_type": "code",
      "execution_count": null,
      "metadata": {
        "id": "A-urTWUkhRmn"
      },
      "outputs": [],
      "source": [
        "%cd {HOME}\n",
        "Image(filename=f'{HOME}/runs/detect/train/results.png', width=600)"
      ]
    },
    {
      "cell_type": "code",
      "execution_count": null,
      "metadata": {
        "id": "HI4nADCCj3F5"
      },
      "outputs": [],
      "source": [
        "%cd {HOME}\n",
        "Image(filename=f'{HOME}/runs/detect/train/val_batch0_pred.jpg', width=600)"
      ]
    },
    {
      "cell_type": "markdown",
      "metadata": {
        "id": "6ODk1VTlevxn"
      },
      "source": [
        "- Check mAP on Validation Dataset"
      ]
    },
    {
      "cell_type": "code",
      "execution_count": null,
      "metadata": {
        "id": "YpyuwrNlXc1P"
      },
      "outputs": [],
      "source": [
        "%cd {HOME}\n",
        "\n",
        "!yolo task=detect mode=val model={HOME}/runs/detect/train/weights/best.pt data={dataset.location}/data.yaml"
      ]
    },
    {
      "cell_type": "markdown",
      "metadata": {
        "id": "i4eASbcWkQBq"
      },
      "source": [
        "## 2.5 Test inference on Custom Yolo V8 Model\n",
        "- trained model located in `{HOME}/runs/detect/train/weights/best.pt`\n",
        "- we will try to do inferencing using that model to detect test image in `{dataset.location}/test/images`"
      ]
    },
    {
      "cell_type": "code",
      "execution_count": null,
      "metadata": {
        "id": "Wjc1ctZykYuf"
      },
      "outputs": [],
      "source": [
        "%cd {HOME}\n",
        "!yolo task=detect mode=predict model={HOME}/runs/detect/train/weights/best.pt conf=0.4 source={dataset.location}/valid/images save=True"
      ]
    },
    {
      "cell_type": "markdown",
      "metadata": {
        "id": "mEYIo95n-I0S"
      },
      "source": [
        "- Above command will generating detected image that located in `/content/runs/detect/`\n",
        "- Show the detection image result using script below"
      ]
    },
    {
      "cell_type": "code",
      "execution_count": null,
      "metadata": {
        "id": "jbVjEtPAkz3j"
      },
      "outputs": [],
      "source": [
        "import glob\n",
        "from IPython.display import Image, display\n",
        "\n",
        "# Define the base path where the folders are located\n",
        "base_path = '/content/runs/detect/'\n",
        "\n",
        "# List all directories that start with 'predict' in the base path\n",
        "subfolders = [os.path.join(base_path, d) for d in os.listdir(base_path)\n",
        "              if os.path.isdir(os.path.join(base_path, d)) and d.startswith('predict')]\n",
        "\n",
        "# Find the latest folder by modification time\n",
        "latest_folder = max(subfolders, key=os.path.getmtime)\n",
        "\n",
        "image_paths = glob.glob(f'{latest_folder}/*.jpg')\n",
        "\n",
        "# Display each image\n",
        "for image_path in image_paths:\n",
        "    display(Image(filename=image_path, width=320))\n",
        "    print(\"\\n\")"
      ]
    },
    {
      "cell_type": "markdown",
      "metadata": {
        "id": "6tXsm9eCLhdx"
      },
      "source": [
        "## 2.6 Export Custom Yolo V8 Model to ONNX Format\n",
        "- To use Pytorch (`.pt`) model generated by Utralytic in OpenCV DNN, we will need to convert that into `ONNX` format"
      ]
    },
    {
      "cell_type": "code",
      "execution_count": null,
      "metadata": {
        "id": "QkrZgTzqLkMf"
      },
      "outputs": [],
      "source": [
        "# Export the model\n",
        "from ultralytics import YOLO\n",
        "\n",
        "model = YOLO(HOME + \"/runs/detect/train/weights/best.pt\")  # Load a model\n",
        "model.export(format=\"onnx\", opset=12, imgsz=[320, 320])"
      ]
    },
    {
      "cell_type": "code",
      "execution_count": null,
      "metadata": {
        "id": "e-AqcYhrMPLQ"
      },
      "outputs": [],
      "source": [
        "# Download Yolo Model.\n",
        "from google.colab import files\n",
        "import shutil\n",
        "\n",
        "shutil.copy(HOME + \"/runs/detect/train/weights/best.onnx\", HOME + \"/yolov8s.onnx\")\n",
        "files.download(HOME + \"/yolov8s.onnx\")"
      ]
    },
    {
      "cell_type": "markdown",
      "metadata": {
        "id": "GvmfVdh-GkvC"
      },
      "source": [
        "## 2.7 Finish\n",
        "- Pada tahap ini kita berhasil mentraining model Custom Yolo V8 untuk Facerecognition.\n",
        "- Selanjutnya kita akan menggunakan model yang berhasil di download ke local computer untuk dijalankan melalui VS Code.\n",
        "- Buka file [3. face_recognition_yolov8_test.ipynb](3.%20face_recognition_yolov8_test.ipynb)"
      ]
    }
  ],
  "metadata": {
    "accelerator": "GPU",
    "colab": {
      "provenance": []
    },
    "gpuClass": "standard",
    "kernelspec": {
      "display_name": "Python 3 (ipykernel)",
      "language": "python",
      "name": "python3"
    },
    "language_info": {
      "codemirror_mode": {
        "name": "ipython",
        "version": 3
      },
      "file_extension": ".py",
      "mimetype": "text/x-python",
      "name": "python",
      "nbconvert_exporter": "python",
      "pygments_lexer": "ipython3",
      "version": "3.9.6"
    }
  },
  "nbformat": 4,
  "nbformat_minor": 0
}